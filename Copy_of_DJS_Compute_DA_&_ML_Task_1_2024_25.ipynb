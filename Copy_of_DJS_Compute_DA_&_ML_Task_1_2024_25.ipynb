{
  "nbformat": 4,
  "nbformat_minor": 0,
  "metadata": {
    "colab": {
      "provenance": []
    },
    "kernelspec": {
      "name": "python3",
      "display_name": "Python 3"
    },
    "language_info": {
      "name": "python"
    }
  },
  "cells": [
    {
      "cell_type": "markdown",
      "source": [
        "**General Instructions:**\n",
        "\n",
        "*   Please make a copy of this colab notebook in your own drive and solve the questions in the copy. Do not edit the original file.\n",
        "\n",
        "*   All participants are encouraged to learn the basics of python including data types, operators, loops, conditional statements, handling user-defined input, strings, string methods, lists, list comprehension, sets, tuples, dictionaries and basic object-oriented programming concepts before coming to the interview.\n",
        "\n",
        "Beginners unfamiliar with Python are advised to watch the following tutorial before beginning Task 1.\n",
        "\n",
        "**Python Tutorial:** https://youtu.be/_uQrJ0TkZlc?feature=shared\n",
        "\n",
        "\n",
        "**Note:** The expected output is given in the cells below the question.\n"
      ],
      "metadata": {
        "id": "PiZZfxvj57LK"
      }
    },
    {
      "cell_type": "markdown",
      "source": [
        "# Task 1 - Basics of Python\n",
        "\n",
        "\n",
        "\n",
        "> It is the year 3031 and the Earth has been invaded by an alien species from the planet of Dioneterra. The resources on their own planet have become severely depleted and they're determined to subjugate humans and take control of the Earth's resources. The Dioneterrans can take on the appearance of any human. The world has been thrown into chaos and fear as the aliens have infiltrated all levels of government. You don't know who to trust as anyone can be an alien in disguise.\n",
        "\n",
        "\n",
        "\n",
        "\n"
      ],
      "metadata": {
        "id": "FgdtUgoiauGY"
      }
    },
    {
      "cell_type": "markdown",
      "source": [
        "**Question 1:**\n",
        "You have a group of people you can trust, whose identities you have confirmed as humans. Unfortunately, since the aliens have access to government resources they have information on all citizens. It would be the height of foolishness to call your team members by their own names while on missions to save humanity. As such you need to generate secret code names for each member.\n",
        "\n",
        "Given below is a list of names. Your job is to write a function codename_generator() that takes the given list as input and prints every possible combination of code names from the given list, separated by whitespace (e.g. Orion Barracuda). Take care to not print codenames with the same name twice (e.g. Orion Orion) or two codenames with the same combination (e.g. if you have a codename Orion Barracuda, then you cannot have a codename Barracuda Orion)."
      ],
      "metadata": {
        "id": "jk_UOVbvcfJb"
      }
    },
    {
      "cell_type": "code",
      "execution_count": null,
      "metadata": {
        "id": "LmwLUF-kahv0"
      },
      "outputs": [],
      "source": [
        "name_list = [\"Orion\", \"Barracuda\", \"Amethyst\", \"Blade\", \"Wasp\", \"Nemesis\", \"Fury\", \"Cobra\", \"Tempest\", \"Leo\", \"Scythe\"]"
      ]
    },
    {
      "cell_type": "code",
      "source": [
        "# your code here\n",
        "def codename_generator(a):\n",
        "    for i ,code1 in enumerate(a):           # using enumersate function as it gives label(for further use)and iterator too\n",
        "        for j,code2 in enumerate(a):\n",
        "            if j>i :                        # condition for not reptition\n",
        "                print(code1,code2,sep=' ')\n",
        "\n",
        "codename_generator(name_list)"
      ],
      "metadata": {
        "colab": {
          "base_uri": "https://localhost:8080/"
        },
        "id": "H3vbMHoYf5Q1",
        "outputId": "a042be8e-2922-4821-c88e-30daf72a88ad"
      },
      "execution_count": null,
      "outputs": [
        {
          "output_type": "stream",
          "name": "stdout",
          "text": [
            "Orion Barracuda\n",
            "Orion Amethyst\n",
            "Orion Blade\n",
            "Orion Wasp\n",
            "Orion Nemesis\n",
            "Orion Fury\n",
            "Orion Cobra\n",
            "Orion Tempest\n",
            "Orion Leo\n",
            "Orion Scythe\n",
            "Barracuda Amethyst\n",
            "Barracuda Blade\n",
            "Barracuda Wasp\n",
            "Barracuda Nemesis\n",
            "Barracuda Fury\n",
            "Barracuda Cobra\n",
            "Barracuda Tempest\n",
            "Barracuda Leo\n",
            "Barracuda Scythe\n",
            "Amethyst Blade\n",
            "Amethyst Wasp\n",
            "Amethyst Nemesis\n",
            "Amethyst Fury\n",
            "Amethyst Cobra\n",
            "Amethyst Tempest\n",
            "Amethyst Leo\n",
            "Amethyst Scythe\n",
            "Blade Wasp\n",
            "Blade Nemesis\n",
            "Blade Fury\n",
            "Blade Cobra\n",
            "Blade Tempest\n",
            "Blade Leo\n",
            "Blade Scythe\n",
            "Wasp Nemesis\n",
            "Wasp Fury\n",
            "Wasp Cobra\n",
            "Wasp Tempest\n",
            "Wasp Leo\n",
            "Wasp Scythe\n",
            "Nemesis Fury\n",
            "Nemesis Cobra\n",
            "Nemesis Tempest\n",
            "Nemesis Leo\n",
            "Nemesis Scythe\n",
            "Fury Cobra\n",
            "Fury Tempest\n",
            "Fury Leo\n",
            "Fury Scythe\n",
            "Cobra Tempest\n",
            "Cobra Leo\n",
            "Cobra Scythe\n",
            "Tempest Leo\n",
            "Tempest Scythe\n",
            "Leo Scythe\n"
          ]
        }
      ]
    },
    {
      "cell_type": "markdown",
      "source": [
        "**Question 2:**\n",
        "You recently caught wind of the rumour that a Resistance Movement against the aliens is starting to gain traction. You and your group of trustworthy humans resolve to go to the headquarters of the Resistance and join the movement.\n",
        "\n",
        "You reach the headquarters and find utter chaos, the leader of the Resistance tells you that they have so many refugees and as a result their registration system is a mess and they have no way of telling apart actual humans and aliens who might have infiltrated the headquarters as humans.\n",
        "\n",
        "He knows that you have programming skills and asks for your help in weeding out the aliens.\n",
        "\n",
        "Given below in the form of a list is the register of names of refugees that the headquarters maintains. Sort the names into two lists - potential aliens and humans. Alien names may:\n",
        "*   begin with the letter 'G'\n",
        "*   contain the substring 'arz'\n",
        "*   contain a digit\n",
        "\n",
        "Additionally, ensure that the new lists do not contain duplicate names and handle any problems that may arise due to case-sensitivity and whitespaces.\n",
        "\n"
      ],
      "metadata": {
        "id": "gezvSe3_hgoU"
      }
    },
    {
      "cell_type": "code",
      "source": [
        "register = [\"Gunther\", \"karzan\", \"pip1do\", \"amelia\", \"emma\", \"jarzk\", \"P0ppy\", \"gunther\", \"Daisy\",\" Demelza \", \"Lisa \", \"garzon \", \"marz4\"]"
      ],
      "metadata": {
        "id": "xqobzAhOunhf"
      },
      "execution_count": null,
      "outputs": []
    },
    {
      "cell_type": "code",
      "source": [
        "# your code here\n",
        "def identifier(a):\n",
        "    humans=[]\n",
        "    aliens=[]\n",
        "    for i in a:\n",
        "        if not(i.casefold().startswith('g')) and 'arz'  not in i.casefold() and i.strip().isalpha():\n",
        "            humans.append(i.lower().strip())\n",
        "        else:\n",
        "            aliens.append(i.lower().strip())\n",
        "    print('Humans:',list(set(humans)))\n",
        "    print('Aliens:',list(set(aliens)))\n",
        "identifier(register)"
      ],
      "metadata": {
        "colab": {
          "base_uri": "https://localhost:8080/"
        },
        "id": "ZHWkgegKvpgZ",
        "outputId": "fd183007-840c-44bb-e40d-438708c4e171"
      },
      "execution_count": null,
      "outputs": [
        {
          "output_type": "stream",
          "name": "stdout",
          "text": [
            "Humans: ['amelia', 'lisa', 'demelza', 'daisy', 'emma']\n",
            "Aliens: ['karzan', 'pip1do', 'garzon', 'marz4', 'p0ppy', 'gunther', 'jarzk']\n"
          ]
        }
      ]
    },
    {
      "cell_type": "markdown",
      "source": [
        "**Question 3:** Now that you have identified the potential aliens, its now time to decide how probable it is that these refugees are aliens.\n",
        "\n",
        "Prepare a dictionary where the keys are the names from the potential aliens list and the associated values are percentages from 0-100 of how probable it is that the refugee with those names are aliens.\n",
        "\n",
        "Given below are the conditions and associated probabilities:\n",
        "*   name starts with 'g' - 25%\n",
        "*   name contains \"arz\" - 50%\n",
        "*   name starts with 'g' and contains \"arz\" - 75%\n",
        "*   name has a digit - 100%"
      ],
      "metadata": {
        "id": "coC9Sbqd0bq0"
      }
    },
    {
      "cell_type": "code",
      "source": [
        "# your code here\n",
        "aliens=['p0ppy', 'gunther', 'karzan', 'garzon', 'marz4', 'jarzk', 'pip1do']\n",
        "def dictionary(a):\n",
        "    b={}\n",
        "    for i in a:\n",
        "        if not(i.strip().isalpha()):\n",
        "            b[i]=100\n",
        "        elif i.casefold().startswith('g') and 'arz' in i.casefold() :\n",
        "            b[i]=75\n",
        "        elif 'arz' in i.casefold():\n",
        "            b[i]=50\n",
        "        else:\n",
        "            b[i]=25\n",
        "    print(b)\n",
        "dictionary(aliens)\n"
      ],
      "metadata": {
        "colab": {
          "base_uri": "https://localhost:8080/"
        },
        "id": "aPuIzBQv2sSS",
        "outputId": "c729cef2-336d-4046-f68f-954865fcd5ca"
      },
      "execution_count": null,
      "outputs": [
        {
          "output_type": "stream",
          "name": "stdout",
          "text": [
            "{'p0ppy': 100, 'gunther': 25, 'karzan': 50, 'garzon': 75, 'marz4': 100, 'jarzk': 50, 'pip1do': 100}\n"
          ]
        }
      ]
    },
    {
      "cell_type": "markdown",
      "source": [
        "**Question 4:** Now that you have completely weeded out the aliens, onto the next part of the plan.\n",
        "\n",
        "There are 12 districts in your city - I to XII. Another resistance group has agreed to share supplies with your group. They send you a list of districts they are operational in and you have in hand, the list of districts your group has members in. Determine which districts you can meet up in, i.e., districts that both the groups operate in.\n",
        "\n",
        "Hint: set operations may prove useful."
      ],
      "metadata": {
        "id": "6z7Wr4BD8xSA"
      }
    },
    {
      "cell_type": "code",
      "source": [
        "your_districts = ['I', 'IV', 'V', 'I', 'VI', 'IX', 'X', 'II', 'III', 'I']\n",
        "their_districts = ['V', 'IV', 'VI', 'XII', 'VII', 'IV', 'VI', 'VIII', 'III']"
      ],
      "metadata": {
        "id": "xUCGsUO9-use"
      },
      "execution_count": null,
      "outputs": []
    },
    {
      "cell_type": "code",
      "source": [
        "# your code here\n",
        "set_your_districts=set(your_districts)\n",
        "set_their_districts=set(their_districts)\n",
        "meet=set_their_districts.intersection(set_your_districts)\n",
        "print('Meet Up Districts:',meet )"
      ],
      "metadata": {
        "colab": {
          "base_uri": "https://localhost:8080/"
        },
        "id": "y7MSDDAL_ZhT",
        "outputId": "86d58e67-474f-4361-b4b4-a1e857a5b54a"
      },
      "execution_count": null,
      "outputs": [
        {
          "output_type": "stream",
          "name": "stdout",
          "text": [
            "Meet Up Districts: {'V', 'IV', 'VI', 'III'}\n"
          ]
        }
      ]
    },
    {
      "cell_type": "markdown",
      "source": [
        "Let's take the difficulty up a notch shall we? Your spies have informed you that the alien goverment has been setting up patrols in some districts to curb rebel movement. One of the spies managed to get a list of the districts that are being patrolled. Ensure that your meet up with the other rebel group does not take place in a patrolled district so that you do not get caught."
      ],
      "metadata": {
        "id": "0MHXt5lKAYIW"
      }
    },
    {
      "cell_type": "code",
      "source": [
        "patrolled_districts = ['I', 'II', 'XII', 'IX', 'XI', 'IV', 'II', 'VI']\n",
        "set_patrolled_districts=set(patrolled_districts)"
      ],
      "metadata": {
        "id": "M-2hfJTOCfAz"
      },
      "execution_count": null,
      "outputs": []
    },
    {
      "cell_type": "code",
      "source": [
        "# your code here\n",
        "new_meet=meet-set_patrolled_districts\n",
        "print(' New Meet Up Districts:',new_meet)"
      ],
      "metadata": {
        "colab": {
          "base_uri": "https://localhost:8080/"
        },
        "id": "bYjT2EfTC0uu",
        "outputId": "e6279b2c-0940-4e2e-cee5-93f802dac067"
      },
      "execution_count": null,
      "outputs": [
        {
          "output_type": "stream",
          "name": "stdout",
          "text": [
            " New Meet Up Districts: {'V', 'III'}\n"
          ]
        }
      ]
    },
    {
      "cell_type": "markdown",
      "source": [
        "**Question 5:** Given below is a list of tuples. Each tuple in this list contains the rank and the name of a Dioneterran Commander. Your job is to define two functions: sort_by_rank() in descending order and sort_by_name() alphabetically to sort the given list by rank and name, respectively.\n",
        "\n",
        "Hint: use lambda expressions"
      ],
      "metadata": {
        "id": "hryYd_ubD2U8"
      }
    },
    {
      "cell_type": "code",
      "source": [
        "commanders = {(4, \"Barzak\"), (2, \"Donesia\"), (5, \"Zeroza\"), (1, \"Yggacia\"), (3, \"Larzon\")}\n",
        "list_commanders=list(commanders)"
      ],
      "metadata": {
        "id": "XniLIPBoGrl9"
      },
      "execution_count": null,
      "outputs": []
    },
    {
      "cell_type": "code",
      "source": [
        "# your code here\n",
        "def sort_by_rank(a):\n",
        "  return sorted(list_commanders,key=lambda list: list[0],reverse=True)\n",
        "def sort_by_name(a):\n",
        "  return sorted(list_commanders,key=lambda list: list[1])\n",
        "\n",
        "print('Sorted by Rank:',sort_by_rank(list_commanders))\n",
        "print('Sorted by Name:',sort_by_name(list_commanders))\n",
        "\n"
      ],
      "metadata": {
        "colab": {
          "base_uri": "https://localhost:8080/"
        },
        "id": "bjq8PTTOHh56",
        "outputId": "870f71fb-4554-4abc-9c9c-46fbc5f62175"
      },
      "execution_count": null,
      "outputs": [
        {
          "output_type": "stream",
          "name": "stdout",
          "text": [
            "Sorted by Rank: [(5, 'Zeroza'), (4, 'Barzak'), (3, 'Larzon'), (2, 'Donesia'), (1, 'Yggacia')]\n",
            "Sorted by Name: [(4, 'Barzak'), (2, 'Donesia'), (3, 'Larzon'), (1, 'Yggacia'), (5, 'Zeroza')]\n"
          ]
        }
      ]
    },
    {
      "cell_type": "markdown",
      "source": [
        "**Question 6:** You have been given the task of calculating the danger level of Dioneterran Commanders. To accomplish this task, you're required to define a class Commander with the attributes name, rank, weight, height and age. Implement a method calculate_danger() that returns the danger level by adding the height to the weight and dividing the result by the age, round off to the nearest integer.\n",
        "\n",
        "Create a Commander object with the necessary parameters and print the danger level."
      ],
      "metadata": {
        "id": "90Nijs1KIZZ0"
      }
    },
    {
      "cell_type": "code",
      "source": [
        "# your code here\n",
        "class Commander ():\n",
        "    def __init__(self,name, rank, weight, height,age):\n",
        "        self.name=name\n",
        "        self.rank=rank\n",
        "        self.weight=weight\n",
        "        self.height=height\n",
        "        self.age=age\n",
        "    def calculate_danger(self):\n",
        "        return (self.weight+self.height)//self.age\n",
        "obj1= Commander('Pranay','Captain',82,170,19)\n",
        "Danger=obj1.calculate_danger()\n",
        "print('Danger Level = ',Danger)\n"
      ],
      "metadata": {
        "colab": {
          "base_uri": "https://localhost:8080/"
        },
        "id": "gnI1a0TFLoqh",
        "outputId": "2a7829ad-f866-4508-f7fe-54162f0f9cb2"
      },
      "execution_count": null,
      "outputs": [
        {
          "output_type": "stream",
          "name": "stdout",
          "text": [
            "Danger Level =  13\n"
          ]
        }
      ]
    },
    {
      "cell_type": "markdown",
      "source": [
        "**Question 7:** All the refugees in the headquarters who have been confirmed as humans have been assigned an ID. A lock has been installed at the gate. Your job is to write a regular expression that checks whether the ID entered is a valid one. Valid IDs have the following features:\n",
        "*   They are strings of exactly 7 characters\n",
        "*   The first 3 characters are uppercase alphabets\n",
        "*   The other last 4 characters are digits.\n",
        "\n",
        "Given below is a list of IDs entered at the gate. Determine which ones are valid.\n",
        "\n",
        "\n",
        "P.S. Don't forget to import the re module"
      ],
      "metadata": {
        "id": "74iydRkwULOi"
      }
    },
    {
      "cell_type": "code",
      "source": [
        "import re\n",
        "test_ids = [\"ABC1234\", \"sbaz56\", \"Wuy1452\", \"TYP9006\", \"KZED439\"]"
      ],
      "metadata": {
        "id": "WcroHcC4VUaY"
      },
      "execution_count": null,
      "outputs": []
    },
    {
      "cell_type": "code",
      "source": [
        "# your code here\n",
        "a=[]\n",
        "for i in test_ids:\n",
        "    if re.search('[A-Z][A-Z][A-Z][0-9][0-9][0-9][0-9]',i):\n",
        "        a.append(i)\n",
        "print('Valid IDs=',a)"
      ],
      "metadata": {
        "colab": {
          "base_uri": "https://localhost:8080/"
        },
        "id": "_Gj97hjmVpGG",
        "outputId": "adb11e8a-f5a9-46fe-b4aa-a0b101f41205"
      },
      "execution_count": null,
      "outputs": [
        {
          "output_type": "stream",
          "name": "stdout",
          "text": [
            "Valid IDs= ['ABC1234', 'TYP9006']\n"
          ]
        }
      ]
    },
    {
      "cell_type": "markdown",
      "source": [
        "For a better understanding of Regular Expressions: https://realpython.com/regex-python/"
      ],
      "metadata": {
        "id": "ZlnxyGHm7z0J"
      }
    }
  ]
}